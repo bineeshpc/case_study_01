{
 "cells": [
  {
   "cell_type": "code",
   "execution_count": 1,
   "id": "8dd32fbd",
   "metadata": {},
   "outputs": [
    {
     "name": "stderr",
     "output_type": "stream",
     "text": [
      "C:\\Users\\Bineesh\\AppData\\Local\\Temp\\ipykernel_21456\\1607258213.py:5: DtypeWarning: Columns (47) have mixed types. Specify dtype option on import or set low_memory=False.\n",
      "  loan_data = pd.read_csv(filename)\n"
     ]
    }
   ],
   "source": [
    "import pandas as pd\n",
    "\n",
    "filename = \"loan.csv\"\n",
    "\n",
    "loan_data = pd.read_csv(filename)"
   ]
  },
  {
   "cell_type": "code",
   "execution_count": 2,
   "id": "d0034203",
   "metadata": {
    "scrolled": true
   },
   "outputs": [
    {
     "data": {
      "text/plain": [
       "Index(['id', 'member_id', 'loan_amnt', 'funded_amnt', 'funded_amnt_inv',\n",
       "       'term', 'int_rate', 'installment', 'grade', 'sub_grade',\n",
       "       ...\n",
       "       'num_tl_90g_dpd_24m', 'num_tl_op_past_12m', 'pct_tl_nvr_dlq',\n",
       "       'percent_bc_gt_75', 'pub_rec_bankruptcies', 'tax_liens',\n",
       "       'tot_hi_cred_lim', 'total_bal_ex_mort', 'total_bc_limit',\n",
       "       'total_il_high_credit_limit'],\n",
       "      dtype='object', length=111)"
      ]
     },
     "execution_count": 2,
     "metadata": {},
     "output_type": "execute_result"
    }
   ],
   "source": [
    "loan_data.columns"
   ]
  },
  {
   "cell_type": "markdown",
   "id": "b25e0530",
   "metadata": {},
   "source": [
    "* Load data contains 111 columns"
   ]
  },
  {
   "cell_type": "code",
   "execution_count": 3,
   "id": "65595153",
   "metadata": {
    "scrolled": false
   },
   "outputs": [],
   "source": [
    "filename1 = \"Data_Dictionary.xlsx\"\n",
    "data_dictionary = pd.read_excel(filename1)\n",
    "\n",
    "\n"
   ]
  },
  {
   "cell_type": "code",
   "execution_count": 4,
   "id": "368f89e1",
   "metadata": {
    "scrolled": true
   },
   "outputs": [
    {
     "data": {
      "text/html": [
       "<div>\n",
       "<style scoped>\n",
       "    .dataframe tbody tr th:only-of-type {\n",
       "        vertical-align: middle;\n",
       "    }\n",
       "\n",
       "    .dataframe tbody tr th {\n",
       "        vertical-align: top;\n",
       "    }\n",
       "\n",
       "    .dataframe thead th {\n",
       "        text-align: right;\n",
       "    }\n",
       "</style>\n",
       "<table border=\"1\" class=\"dataframe\">\n",
       "  <thead>\n",
       "    <tr style=\"text-align: right;\">\n",
       "      <th></th>\n",
       "      <th>loanstat</th>\n",
       "      <th>description</th>\n",
       "    </tr>\n",
       "  </thead>\n",
       "  <tbody>\n",
       "    <tr>\n",
       "      <th>0</th>\n",
       "      <td>acc_now_delinq</td>\n",
       "      <td>The number of accounts on which the borrower i...</td>\n",
       "    </tr>\n",
       "    <tr>\n",
       "      <th>1</th>\n",
       "      <td>acc_open_past_24mths</td>\n",
       "      <td>Number of trades opened in past 24 months.</td>\n",
       "    </tr>\n",
       "    <tr>\n",
       "      <th>2</th>\n",
       "      <td>addr_state</td>\n",
       "      <td>The state provided by the borrower in the loan...</td>\n",
       "    </tr>\n",
       "    <tr>\n",
       "      <th>3</th>\n",
       "      <td>all_util</td>\n",
       "      <td>Balance to credit limit on all trades</td>\n",
       "    </tr>\n",
       "    <tr>\n",
       "      <th>4</th>\n",
       "      <td>annual_inc</td>\n",
       "      <td>The self-reported annual income provided by th...</td>\n",
       "    </tr>\n",
       "    <tr>\n",
       "      <th>...</th>\n",
       "      <td>...</td>\n",
       "      <td>...</td>\n",
       "    </tr>\n",
       "    <tr>\n",
       "      <th>112</th>\n",
       "      <td>verification_status</td>\n",
       "      <td>Indicates if income was verified by LC, not ve...</td>\n",
       "    </tr>\n",
       "    <tr>\n",
       "      <th>113</th>\n",
       "      <td>verified_status_joint</td>\n",
       "      <td>Indicates if the co-borrowers' joint income wa...</td>\n",
       "    </tr>\n",
       "    <tr>\n",
       "      <th>114</th>\n",
       "      <td>zip_code</td>\n",
       "      <td>The first 3 numbers of the zip code provided b...</td>\n",
       "    </tr>\n",
       "    <tr>\n",
       "      <th>115</th>\n",
       "      <td>NaN</td>\n",
       "      <td>NaN</td>\n",
       "    </tr>\n",
       "    <tr>\n",
       "      <th>116</th>\n",
       "      <td>NaN</td>\n",
       "      <td>* Employer Title replaces Employer Name for al...</td>\n",
       "    </tr>\n",
       "  </tbody>\n",
       "</table>\n",
       "<p>117 rows × 2 columns</p>\n",
       "</div>"
      ],
      "text/plain": [
       "                  loanstat                                        description\n",
       "0           acc_now_delinq  The number of accounts on which the borrower i...\n",
       "1     acc_open_past_24mths         Number of trades opened in past 24 months.\n",
       "2               addr_state  The state provided by the borrower in the loan...\n",
       "3                 all_util              Balance to credit limit on all trades\n",
       "4               annual_inc  The self-reported annual income provided by th...\n",
       "..                     ...                                                ...\n",
       "112    verification_status  Indicates if income was verified by LC, not ve...\n",
       "113  verified_status_joint  Indicates if the co-borrowers' joint income wa...\n",
       "114               zip_code  The first 3 numbers of the zip code provided b...\n",
       "115                    NaN                                                NaN\n",
       "116                    NaN  * Employer Title replaces Employer Name for al...\n",
       "\n",
       "[117 rows x 2 columns]"
      ]
     },
     "execution_count": 4,
     "metadata": {},
     "output_type": "execute_result"
    }
   ],
   "source": [
    "data_dictionary.columns\n",
    "loanstat = 'loanstat'\n",
    "description = 'description'\n",
    "data_dictionary.columns = [loanstat, description]\n",
    "data_dictionary"
   ]
  },
  {
   "cell_type": "markdown",
   "id": "0dca8f1b",
   "metadata": {},
   "source": [
    "* data dictionary contains 117 rows which corresponds to 111 columns in the load dataframe\n",
    "* So need to correct this data quality issue"
   ]
  },
  {
   "cell_type": "code",
   "execution_count": 5,
   "id": "3aa97b82",
   "metadata": {
    "scrolled": false
   },
   "outputs": [
    {
     "data": {
      "text/html": [
       "<div>\n",
       "<style scoped>\n",
       "    .dataframe tbody tr th:only-of-type {\n",
       "        vertical-align: middle;\n",
       "    }\n",
       "\n",
       "    .dataframe tbody tr th {\n",
       "        vertical-align: top;\n",
       "    }\n",
       "\n",
       "    .dataframe thead th {\n",
       "        text-align: right;\n",
       "    }\n",
       "</style>\n",
       "<table border=\"1\" class=\"dataframe\">\n",
       "  <thead>\n",
       "    <tr style=\"text-align: right;\">\n",
       "      <th></th>\n",
       "      <th>loanstat</th>\n",
       "    </tr>\n",
       "  </thead>\n",
       "  <tbody>\n",
       "    <tr>\n",
       "      <th>0</th>\n",
       "      <td>acc_now_delinq</td>\n",
       "    </tr>\n",
       "    <tr>\n",
       "      <th>1</th>\n",
       "      <td>acc_open_past_24mths</td>\n",
       "    </tr>\n",
       "    <tr>\n",
       "      <th>2</th>\n",
       "      <td>addr_state</td>\n",
       "    </tr>\n",
       "    <tr>\n",
       "      <th>3</th>\n",
       "      <td>all_util</td>\n",
       "    </tr>\n",
       "    <tr>\n",
       "      <th>4</th>\n",
       "      <td>annual_inc</td>\n",
       "    </tr>\n",
       "    <tr>\n",
       "      <th>...</th>\n",
       "      <td>...</td>\n",
       "    </tr>\n",
       "    <tr>\n",
       "      <th>106</th>\n",
       "      <td>total_rev_hi_lim</td>\n",
       "    </tr>\n",
       "    <tr>\n",
       "      <th>107</th>\n",
       "      <td>url</td>\n",
       "    </tr>\n",
       "    <tr>\n",
       "      <th>108</th>\n",
       "      <td>verification_status</td>\n",
       "    </tr>\n",
       "    <tr>\n",
       "      <th>109</th>\n",
       "      <td>verification_status_joint</td>\n",
       "    </tr>\n",
       "    <tr>\n",
       "      <th>110</th>\n",
       "      <td>zip_code</td>\n",
       "    </tr>\n",
       "  </tbody>\n",
       "</table>\n",
       "<p>111 rows × 1 columns</p>\n",
       "</div>"
      ],
      "text/plain": [
       "                      loanstat\n",
       "0               acc_now_delinq\n",
       "1         acc_open_past_24mths\n",
       "2                   addr_state\n",
       "3                     all_util\n",
       "4                   annual_inc\n",
       "..                         ...\n",
       "106           total_rev_hi_lim\n",
       "107                        url\n",
       "108        verification_status\n",
       "109  verification_status_joint\n",
       "110                   zip_code\n",
       "\n",
       "[111 rows x 1 columns]"
      ]
     },
     "execution_count": 5,
     "metadata": {},
     "output_type": "execute_result"
    }
   ],
   "source": [
    "column_df = pd.DataFrame({loanstat: loan_data.columns.sort_values()})\n",
    "column_df"
   ]
  },
  {
   "cell_type": "code",
   "execution_count": 6,
   "id": "8058ba56",
   "metadata": {},
   "outputs": [
    {
     "name": "stdout",
     "output_type": "stream",
     "text": [
      "These are the extra columns in loan_data\n",
      " {'verification_status_joint', 'total_rev_hi_lim'}\n",
      "These are the extra info in data dictionary\n",
      " {nan, 'verified_status_joint', 'last_fico_range_high', 'total_rev_hi_lim \\xa0', 'last_fico_range_low', 'fico_range_low', 'fico_range_high'}\n"
     ]
    },
    {
     "data": {
      "text/plain": [
       "({'total_rev_hi_lim', 'verification_status_joint'},\n",
       " {'fico_range_high',\n",
       "  'fico_range_low',\n",
       "  'last_fico_range_high',\n",
       "  'last_fico_range_low',\n",
       "  nan,\n",
       "  'total_rev_hi_lim \\xa0',\n",
       "  'verified_status_joint'})"
      ]
     },
     "execution_count": 6,
     "metadata": {},
     "output_type": "execute_result"
    }
   ],
   "source": [
    "def get_column_mismatch(loan_data, data_dictionary):\n",
    "    diff1 = set(loan_data.columns) - set(data_dictionary[loanstat])\n",
    "    print(\"These are the extra columns in loan_data\\n\", diff1)\n",
    "    diff2 = set(data_dictionary[loanstat]) - set(loan_data.columns)\n",
    "    print(\"These are the extra info in data dictionary\\n\", diff2)\n",
    "    return diff1, diff2\n",
    "    \n",
    "get_column_mismatch(loan_data, data_dictionary)"
   ]
  },
  {
   "cell_type": "markdown",
   "id": "1fa956cb",
   "metadata": {},
   "source": [
    "* There are two columns extra in the loan data.\n",
    "\n",
    "* There are two columns extra in the loan data.\n",
    "* There is an issue with total_rev_hi_lim, ie some special characters in it\n",
    "* verification_status_joint in loan_data is verified_status_joint in data dictionary\n",
    "* There are nan values in the data dictionary\n"
   ]
  },
  {
   "cell_type": "code",
   "execution_count": 7,
   "id": "0d86cc1d",
   "metadata": {
    "scrolled": true
   },
   "outputs": [
    {
     "name": "stdout",
     "output_type": "stream",
     "text": [
      "These are the extra columns in loan_data\n",
      " set()\n",
      "These are the extra info in data dictionary\n",
      " {nan, 'last_fico_range_high', 'last_fico_range_low', 'fico_range_low', 'fico_range_high'}\n"
     ]
    },
    {
     "data": {
      "text/plain": [
       "(set(),\n",
       " {'fico_range_high',\n",
       "  'fico_range_low',\n",
       "  'last_fico_range_high',\n",
       "  'last_fico_range_low',\n",
       "  nan})"
      ]
     },
     "execution_count": 7,
     "metadata": {},
     "output_type": "execute_result"
    }
   ],
   "source": [
    "mismatched_values = {'total_rev_hi_lim \\xa0': 'total_rev_hi_lim', 'verified_status_joint': 'verification_status_joint'}\n",
    "data_dictionary[loanstat] = data_dictionary[loanstat].replace(mismatched_values)\n",
    "\n",
    "get_column_mismatch(loan_data, data_dictionary)"
   ]
  },
  {
   "cell_type": "markdown",
   "id": "d3bb499e",
   "metadata": {},
   "source": [
    "* 'fico_range_high',\n",
    "  'fico_range_low',\n",
    "  'last_fico_range_high',\n",
    "  'last_fico_range_low' These 4 variables to be interpreted later. These are present in data dictionary but not present in loan data. Need to check whether these variables can be derived from existing variables"
   ]
  },
  {
   "cell_type": "code",
   "execution_count": 8,
   "id": "b0a0eea7",
   "metadata": {},
   "outputs": [],
   "source": [
    "cleaned_data_dictionary = column_df.merge(data_dictionary, on=loanstat, how='inner')\n",
    "cleaned_data_dictionary.to_csv(\"cleaned_data_dictionary.csv\", index=False)"
   ]
  },
  {
   "cell_type": "code",
   "execution_count": 9,
   "id": "24982f3e",
   "metadata": {
    "scrolled": true
   },
   "outputs": [
    {
     "data": {
      "text/plain": [
       "{'acc_now_delinq': 'The number of accounts on which the borrower is now delinquent.',\n",
       " 'acc_open_past_24mths': 'Number of trades opened in past 24 months.',\n",
       " 'addr_state': 'The state provided by the borrower in the loan application',\n",
       " 'all_util': 'Balance to credit limit on all trades',\n",
       " 'annual_inc': 'The self-reported annual income provided by the borrower during registration.',\n",
       " 'annual_inc_joint': 'The combined self-reported annual income provided by the co-borrowers during registration',\n",
       " 'application_type': 'Indicates whether the loan is an individual application or a joint application with two co-borrowers',\n",
       " 'avg_cur_bal': 'Average current balance of all accounts',\n",
       " 'bc_open_to_buy': 'Total open to buy on revolving bankcards.',\n",
       " 'bc_util': 'Ratio of total current balance to high credit/credit limit for all bankcard accounts.',\n",
       " 'chargeoff_within_12_mths': 'Number of charge-offs within 12 months',\n",
       " 'collection_recovery_fee': 'post charge off collection fee',\n",
       " 'collections_12_mths_ex_med': 'Number of collections in 12 months excluding medical collections',\n",
       " 'delinq_2yrs': \"The number of 30+ days past-due incidences of delinquency in the borrower's credit file for the past 2 years\",\n",
       " 'delinq_amnt': 'The past-due amount owed for the accounts on which the borrower is now delinquent.',\n",
       " 'desc': 'Loan description provided by the borrower',\n",
       " 'dti': 'A ratio calculated using the borrower’s total monthly debt payments on the total debt obligations, excluding mortgage and the requested LC loan, divided by the borrower’s self-reported monthly income.',\n",
       " 'dti_joint': \"A ratio calculated using the co-borrowers' total monthly payments on the total debt obligations, excluding mortgages and the requested LC loan, divided by the co-borrowers' combined self-reported monthly income\",\n",
       " 'earliest_cr_line': \"The month the borrower's earliest reported credit line was opened\",\n",
       " 'emp_length': 'Employment length in years. Possible values are between 0 and 10 where 0 means less than one year and 10 means ten or more years. ',\n",
       " 'emp_title': 'The job title supplied by the Borrower when applying for the loan.*',\n",
       " 'funded_amnt': 'The total amount committed to that loan at that point in time.',\n",
       " 'funded_amnt_inv': 'The total amount committed by investors for that loan at that point in time.',\n",
       " 'grade': 'LC assigned loan grade',\n",
       " 'home_ownership': 'The home ownership status provided by the borrower during registration. Our values are: RENT, OWN, MORTGAGE, OTHER.',\n",
       " 'id': 'A unique LC assigned ID for the loan listing.',\n",
       " 'il_util': 'Ratio of total current balance to high credit/credit limit on all install acct',\n",
       " 'initial_list_status': 'The initial listing status of the loan. Possible values are – W, F',\n",
       " 'inq_fi': 'Number of personal finance inquiries',\n",
       " 'inq_last_12m': 'Number of credit inquiries in past 12 months',\n",
       " 'inq_last_6mths': 'The number of inquiries in past 6 months (excluding auto and mortgage inquiries)',\n",
       " 'installment': 'The monthly payment owed by the borrower if the loan originates.',\n",
       " 'int_rate': 'Interest Rate on the loan',\n",
       " 'issue_d': 'The month which the loan was funded',\n",
       " 'last_credit_pull_d': 'The most recent month LC pulled credit for this loan',\n",
       " 'last_pymnt_amnt': 'Last total payment amount received',\n",
       " 'last_pymnt_d': 'Last month payment was received',\n",
       " 'loan_amnt': 'The listed amount of the loan applied for by the borrower. If at some point in time, the credit department reduces the loan amount, then it will be reflected in this value.',\n",
       " 'loan_status': 'Current status of the loan',\n",
       " 'max_bal_bc': 'Maximum current balance owed on all revolving accounts',\n",
       " 'member_id': 'A unique LC assigned Id for the borrower member.',\n",
       " 'mo_sin_old_il_acct': 'Months since oldest bank installment account opened',\n",
       " 'mo_sin_old_rev_tl_op': 'Months since oldest revolving account opened',\n",
       " 'mo_sin_rcnt_rev_tl_op': 'Months since most recent revolving account opened',\n",
       " 'mo_sin_rcnt_tl': 'Months since most recent account opened',\n",
       " 'mort_acc': 'Number of mortgage accounts.',\n",
       " 'mths_since_last_delinq': \"The number of months since the borrower's last delinquency.\",\n",
       " 'mths_since_last_major_derog': 'Months since most recent 90-day or worse rating',\n",
       " 'mths_since_last_record': 'The number of months since the last public record.',\n",
       " 'mths_since_rcnt_il': 'Months since most recent installment accounts opened',\n",
       " 'mths_since_recent_bc': 'Months since most recent bankcard account opened.',\n",
       " 'mths_since_recent_bc_dlq': 'Months since most recent bankcard delinquency',\n",
       " 'mths_since_recent_inq': 'Months since most recent inquiry.',\n",
       " 'mths_since_recent_revol_delinq': 'Months since most recent revolving delinquency.',\n",
       " 'next_pymnt_d': 'Next scheduled payment date',\n",
       " 'num_accts_ever_120_pd': 'Number of accounts ever 120 or more days past due',\n",
       " 'num_actv_bc_tl': 'Number of currently active bankcard accounts',\n",
       " 'num_actv_rev_tl': 'Number of currently active revolving trades',\n",
       " 'num_bc_sats': 'Number of satisfactory bankcard accounts',\n",
       " 'num_bc_tl': 'Number of bankcard accounts',\n",
       " 'num_il_tl': 'Number of installment accounts',\n",
       " 'num_op_rev_tl': 'Number of open revolving accounts',\n",
       " 'num_rev_accts': 'Number of revolving accounts',\n",
       " 'num_rev_tl_bal_gt_0': 'Number of revolving trades with balance >0',\n",
       " 'num_sats': 'Number of satisfactory accounts',\n",
       " 'num_tl_120dpd_2m': 'Number of accounts currently 120 days past due (updated in past 2 months)',\n",
       " 'num_tl_30dpd': 'Number of accounts currently 30 days past due (updated in past 2 months)',\n",
       " 'num_tl_90g_dpd_24m': 'Number of accounts 90 or more days past due in last 24 months',\n",
       " 'num_tl_op_past_12m': 'Number of accounts opened in past 12 months',\n",
       " 'open_acc': \"The number of open credit lines in the borrower's credit file.\",\n",
       " 'open_acc_6m': 'Number of open trades in last 6 months',\n",
       " 'open_il_12m': 'Number of installment accounts opened in past 12 months',\n",
       " 'open_il_24m': 'Number of installment accounts opened in past 24 months',\n",
       " 'open_il_6m': 'Number of currently active installment trades',\n",
       " 'open_rv_12m': 'Number of revolving trades opened in past 12 months',\n",
       " 'open_rv_24m': 'Number of revolving trades opened in past 24 months',\n",
       " 'out_prncp': 'Remaining outstanding principal for total amount funded',\n",
       " 'out_prncp_inv': 'Remaining outstanding principal for portion of total amount funded by investors',\n",
       " 'pct_tl_nvr_dlq': 'Percent of trades never delinquent',\n",
       " 'percent_bc_gt_75': 'Percentage of all bankcard accounts > 75% of limit.',\n",
       " 'policy_code': 'publicly available policy_code=1\\nnew products not publicly available policy_code=2',\n",
       " 'pub_rec': 'Number of derogatory public records',\n",
       " 'pub_rec_bankruptcies': 'Number of public record bankruptcies',\n",
       " 'purpose': 'A category provided by the borrower for the loan request. ',\n",
       " 'pymnt_plan': 'Indicates if a payment plan has been put in place for the loan',\n",
       " 'recoveries': 'post charge off gross recovery',\n",
       " 'revol_bal': 'Total credit revolving balance',\n",
       " 'revol_util': 'Revolving line utilization rate, or the amount of credit the borrower is using relative to all available revolving credit.',\n",
       " 'sub_grade': 'LC assigned loan subgrade',\n",
       " 'tax_liens': 'Number of tax liens',\n",
       " 'term': 'The number of payments on the loan. Values are in months and can be either 36 or 60.',\n",
       " 'title': 'The loan title provided by the borrower',\n",
       " 'tot_coll_amt': 'Total collection amounts ever owed',\n",
       " 'tot_cur_bal': 'Total current balance of all accounts',\n",
       " 'tot_hi_cred_lim': 'Total high credit/credit limit',\n",
       " 'total_acc': \"The total number of credit lines currently in the borrower's credit file\",\n",
       " 'total_bal_ex_mort': 'Total credit balance excluding mortgage',\n",
       " 'total_bal_il': 'Total current balance of all installment accounts',\n",
       " 'total_bc_limit': 'Total bankcard high credit/credit limit',\n",
       " 'total_cu_tl': 'Number of finance trades',\n",
       " 'total_il_high_credit_limit': 'Total installment high credit/credit limit',\n",
       " 'total_pymnt': 'Payments received to date for total amount funded',\n",
       " 'total_pymnt_inv': 'Payments received to date for portion of total amount funded by investors',\n",
       " 'total_rec_int': 'Interest received to date',\n",
       " 'total_rec_late_fee': 'Late fees received to date',\n",
       " 'total_rec_prncp': 'Principal received to date',\n",
       " 'total_rev_hi_lim': 'Total revolving high credit/credit limit',\n",
       " 'url': 'URL for the LC page with listing data.',\n",
       " 'verification_status': 'Indicates if income was verified by LC, not verified, or if the income source was verified',\n",
       " 'verification_status_joint': \"Indicates if the co-borrowers' joint income was verified by LC, not verified, or if the income source was verified\",\n",
       " 'zip_code': 'The first 3 numbers of the zip code provided by the borrower in the loan application.'}"
      ]
     },
     "execution_count": 9,
     "metadata": {},
     "output_type": "execute_result"
    }
   ],
   "source": [
    "cleaned_data_dictionary.set_index(loanstat)[description].to_dict()\n"
   ]
  },
  {
   "cell_type": "code",
   "execution_count": 10,
   "id": "9118aea6",
   "metadata": {},
   "outputs": [
    {
     "data": {
      "text/plain": [
       "0    39717\n",
       "Name: acc_now_delinq, dtype: int64"
      ]
     },
     "execution_count": 10,
     "metadata": {},
     "output_type": "execute_result"
    }
   ],
   "source": [
    "loan_data[data_dictionary.iloc[0,0]].value_counts()"
   ]
  }
 ],
 "metadata": {
  "kernelspec": {
   "display_name": "Python 3 (ipykernel)",
   "language": "python",
   "name": "python3"
  },
  "language_info": {
   "codemirror_mode": {
    "name": "ipython",
    "version": 3
   },
   "file_extension": ".py",
   "mimetype": "text/x-python",
   "name": "python",
   "nbconvert_exporter": "python",
   "pygments_lexer": "ipython3",
   "version": "3.9.12"
  }
 },
 "nbformat": 4,
 "nbformat_minor": 5
}
